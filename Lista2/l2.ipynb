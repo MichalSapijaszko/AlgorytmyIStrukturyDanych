{
 "cells": [
  {
   "cell_type": "code",
   "execution_count": 4,
   "metadata": {},
   "outputs": [
    {
     "name": "stdout",
     "output_type": "stream",
     "text": [
      "54\n"
     ]
    }
   ],
   "source": [
    "def MaximumOfSequence(s):\n",
    "    if len(s) == 1:\n",
    "        return s[0]\n",
    "    return max(s[-1], MaximumOfSequence(s[:(len(s)-1)]))\n",
    "    \n",
    "A = [2,1,3,7,5,21,54,3,2,7,3,8,31]\n",
    "print(MaximumOfSequence(A))\n",
    "\n",
    "    "
   ]
  },
  {
   "cell_type": "markdown",
   "metadata": {},
   "source": [
    "Zadanie 3"
   ]
  },
  {
   "cell_type": "code",
   "execution_count": 31,
   "metadata": {},
   "outputs": [
    {
     "name": "stdout",
     "output_type": "stream",
     "text": [
      "(54, 1)\n"
     ]
    }
   ],
   "source": [
    "def MaxIMin(s):\n",
    "    if len(s) == 1:\n",
    "        return (s[0], s[0])\n",
    "    else:\n",
    "        return (max(s[0],MaxIMin(s[1:])[0]), min(s[0],MaxIMin(s[1:])[1]))\n",
    "\n",
    "A = [2,1,3,7,5,21,54,3,2,7,3,8,31]\n",
    "print(MaxIMin(A))\n"
   ]
  },
  {
   "cell_type": "markdown",
   "metadata": {},
   "source": [
    "Zadanie 4"
   ]
  },
  {
   "cell_type": "code",
   "execution_count": 6,
   "metadata": {},
   "outputs": [
    {
     "name": "stdout",
     "output_type": "stream",
     "text": [
      "15\n"
     ]
    }
   ],
   "source": [
    "def iloczyn(m,n):\n",
    "    \"\"\"\n",
    "    Funkcja rekurencyjnie licząca iloczyn dwóch liczb wykorzystując tylko dodawanie i odejmowanie.\n",
    "\n",
    "    Input:\n",
    "    m [float] - czynnik\n",
    "    n [float] - czynnik\n",
    "\n",
    "    Output:\n",
    "    wynik [float] - iloczyn\n",
    "    \"\"\"\n",
    "    wynik = m\n",
    "    if m == 0 or n == 0:\n",
    "        return 0\n",
    "    if n == 1:\n",
    "        return m\n",
    "    if m == 1:\n",
    "        return n\n",
    "    if m < 0 and n < 0:\n",
    "        return iloczyn(-m,-n)\n",
    "    if n < 0:\n",
    "        return -iloczyn(m, -n)\n",
    "    if m < 0:\n",
    "        return -iloczyn(-m, n)\n",
    "    else:\n",
    "        return m + iloczyn(m,n-1)\n",
    "    \n",
    "m = 5\n",
    "n = 3\n",
    "print(iloczyn(m,n))"
   ]
  },
  {
   "cell_type": "markdown",
   "metadata": {},
   "source": [
    "Zadanie 5"
   ]
  },
  {
   "cell_type": "code",
   "execution_count": 13,
   "metadata": {},
   "outputs": [
    {
     "name": "stdout",
     "output_type": "stream",
     "text": [
      "True\n",
      "False\n"
     ]
    }
   ],
   "source": [
    "def palindrom(słowo):\n",
    "    \"\"\"\n",
    "    Funkcja sprawdzająca rekurencyjnie czy dane słowo jest palindromem (kajak).\n",
    "\n",
    "    Input:\n",
    "    słowo [str] - słowo które sprawdzamy\n",
    "\n",
    "    Output:\n",
    "    bool\n",
    "    \"\"\"\n",
    "    if len(słowo) == 1:\n",
    "        return True\n",
    "    elif len(słowo) == 2:\n",
    "        if słowo[0] == słowo[1]:\n",
    "            return True\n",
    "        else:\n",
    "            return False\n",
    "    elif słowo [0] != słowo[-1]:\n",
    "        return False\n",
    "    else:\n",
    "        return palindrom(słowo[1:-1])\n",
    "    \n",
    "słowo = 'kajak'\n",
    "słowo3 = 'aeea'\n",
    "słowo2 = 'jajo'\n",
    "\n",
    "print(palindrom(słowo))\n",
    "print(palindrom(słowo2))\n"
   ]
  },
  {
   "cell_type": "code",
   "execution_count": 30,
   "metadata": {},
   "outputs": [
    {
     "name": "stdout",
     "output_type": "stream",
     "text": [
      "['Testowy\\\\3.txt', [], []]\n"
     ]
    }
   ],
   "source": [
    "import os\n",
    "\n",
    "def find(path,filename):\n",
    "    \"\"\"\n",
    "    \"\"\"\n",
    "    wynik = []\n",
    "    lista = os.listdir(path)\n",
    "    for element in lista:\n",
    "        if os.path.isfile(os.path.join(path, element)) == True:\n",
    "            if element == filename:\n",
    "                wynik.append(os.path.join(path, element))\n",
    "        else:\n",
    "            if os.path.isdir(os.path.join(path, element)) == True:\n",
    "                wynik.append(find(os.path.join(path,element), filename))\n",
    "    return wynik\n",
    "\n",
    "print(find(\"Testowy\",\"3.txt\"))"
   ]
  },
  {
   "cell_type": "code",
   "execution_count": null,
   "metadata": {},
   "outputs": [],
   "source": []
  }
 ],
 "metadata": {
  "kernelspec": {
   "display_name": "Python 3",
   "language": "python",
   "name": "python3"
  },
  "language_info": {
   "codemirror_mode": {
    "name": "ipython",
    "version": 3
   },
   "file_extension": ".py",
   "mimetype": "text/x-python",
   "name": "python",
   "nbconvert_exporter": "python",
   "pygments_lexer": "ipython3",
   "version": "3.11.2"
  }
 },
 "nbformat": 4,
 "nbformat_minor": 2
}
