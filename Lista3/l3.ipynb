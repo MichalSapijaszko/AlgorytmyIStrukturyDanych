{
 "cells": [
  {
   "cell_type": "code",
   "execution_count": 27,
   "metadata": {},
   "outputs": [],
   "source": [
    "class Empty(Exception):\n",
    "    pass\n",
    "\n",
    "class Stack:\n",
    "    def __init__(self):\n",
    "        self._data = [] #nowy pusty stos\n",
    "    \n",
    "    def __str__(self):\n",
    "        return str(self._data)\n",
    "\n",
    "    def __len__(self):\n",
    "        return len(self._data)\n",
    "\n",
    "    def is_empty(self):\n",
    "        return len(self._data)==0\n",
    "\n",
    "    def push(self,e):\n",
    "        self._data.append(e)\n",
    "\n",
    "    def top(self):\n",
    "        if self.is_empty():\n",
    "            raise Empty('Stack is empty')\n",
    "        return self._data[-1]\n",
    "\n",
    "    def pop(self):\n",
    "        if self.is_empty():\n",
    "            raise Empty('Stack is empty')\n",
    "        return self._data.pop() "
   ]
  },
  {
   "cell_type": "markdown",
   "metadata": {},
   "source": [
    "Zadanie 1"
   ]
  },
  {
   "cell_type": "code",
   "execution_count": 37,
   "metadata": {},
   "outputs": [],
   "source": [
    "import ctypes #tablice niskopoziomowe\n",
    "class DynamicArray:\n",
    "\n",
    "    def __init__(self):\n",
    "        self._n = 0 #liczba elementów\n",
    "        self._capacity = 1 #rozmiar tablicy\n",
    "        self._A = self._make_array(self._capacity) #właściwa tablica\n",
    "\n",
    "    def __str__(self):\n",
    "        string = \"|\"\n",
    "        for i in range(self._capacity):\n",
    "            try:\n",
    "                string += str(self._A[i]) + \"|\"\n",
    "            except ValueError:\n",
    "                string += \" |\"\n",
    "        return string\n",
    "\n",
    "    def __len__(self):\n",
    "        return self._n\n",
    "\n",
    "    def __getitem__(self,k):\n",
    "        if not 0 <= k < self._n:\n",
    "            raise IndexError('invalid index')\n",
    "        return self._A[k]\n",
    "    \n",
    "    def insert(self, k, value):\n",
    "        if k < 0 or k > self._n:\n",
    "            print(\"please enter appropriate index..\")\n",
    "            return\n",
    "\n",
    "        if self._n == self._capacity:\n",
    "            self._resize(2*self._capacity)\n",
    "        \n",
    "        for i in range(self._n-1, k-1, -1):\n",
    "            self._A[i+1] = self._A[i]\n",
    " \n",
    "        self._A[k] = value\n",
    "        self._n += 1\n",
    "        \n",
    "    def remove(self, value):\n",
    "        indeks = []\n",
    "        counter = 0\n",
    "        for i in range(self._n):\n",
    "            if self._A[i] == value:\n",
    "                indeks.append(i-counter)\n",
    "                counter += 1\n",
    "            \n",
    "        for i in indeks:\n",
    "            for j in range(i, self._n-1):\n",
    "                self._A[j] = self._A[j+1]\n",
    "            self._n -= 1\n",
    "            self._resize(self._capacity)\n",
    "\n",
    "    def expand(self, seq):\n",
    "        self._resize(len(self)+len(seq))\n",
    "        for i in seq:\n",
    "            self.append(i)\n",
    "\n",
    "    def append(self,obj):\n",
    "        if self._n == self._capacity:\n",
    "            self._resize(2*self._capacity)\n",
    "        self._A[self._n] = obj\n",
    "        self._n += 1\n",
    "\n",
    "    def _resize(self,c):\n",
    "        B = self._make_array(c)\n",
    "        for k in range(self._n):\n",
    "            B[k] = self._A[k]\n",
    "        self._A = B\n",
    "        self._capacity = c\n",
    "\n",
    "    def _make_array(self,c):\n",
    "        return (c*ctypes.py_object)()"
   ]
  },
  {
   "cell_type": "code",
   "execution_count": 38,
   "metadata": {},
   "outputs": [
    {
     "name": "stdout",
     "output_type": "stream",
     "text": [
      "|2|1|3|7| | | |\n",
      "|2|1|3|69|7| | |\n",
      "|2|1|3|69|7|4|2|1|5|7|4|\n",
      "|2|3|69|7|4|2|5|7|4| | |\n"
     ]
    }
   ],
   "source": [
    "A = DynamicArray()\n",
    "\n",
    "A.append(2)\n",
    "A.append(1)\n",
    "A.append(3)\n",
    "A.append(7)\n",
    "A._resize(7)\n",
    "\n",
    "print(A)\n",
    "\n",
    "A.insert(3, 69)\n",
    "print(A)\n",
    "\n",
    "A.expand([4,2,1,5,7,4])\n",
    "print(A)\n",
    "\n",
    "A.remove(1)\n",
    "print(A)\n",
    "\n"
   ]
  },
  {
   "cell_type": "markdown",
   "metadata": {},
   "source": [
    "Zadanie 2"
   ]
  },
  {
   "cell_type": "code",
   "execution_count": 27,
   "metadata": {},
   "outputs": [
    {
     "data": {
      "image/png": "[encoded data removed]",
      "text/plain": [
       "<Figure size 640x480 with 1 Axes>"
      ]
     },
     "metadata": {},
     "output_type": "display_data"
    }
   ],
   "source": [
    "import time, matplotlib.pyplot as plt, random, numpy as np\n",
    "from scipy.optimize import curve_fit\n",
    "\n",
    "def f(x, a, b):\n",
    "  return a*x+b\n",
    "\n",
    "x2 = np.arange(1,10**7, 10**3)\n",
    "\n",
    "lista = [0] * (10**7)\n",
    "czasy = []\n",
    "for i in range(1,10**7,10**6):\n",
    "  t=0\n",
    "  for k in range(100):\n",
    "    start = time.time()\n",
    "    lista.pop(i-1)\n",
    "    end = time.time()\n",
    "    t+=(end-start)\n",
    "    lista.append(1)\n",
    "  czasy.append(t/100)\n",
    "\n",
    "popt, pcov = curve_fit(f, range(1,10**7,10**6), czasy)\n",
    "\n",
    "plt.scatter(range(1,10**7,10**6), czasy, label=\"Dane\")\n",
    "plt.plot(x2, f(x2, *popt), label=\"Hipoteza liniowa\")\n",
    "plt.legend()\n",
    "plt.show()\n",
    "\n",
    "\n"
   ]
  },
  {
   "cell_type": "markdown",
   "metadata": {},
   "source": [
    "Zadanie 3"
   ]
  },
  {
   "cell_type": "code",
   "execution_count": 18,
   "metadata": {},
   "outputs": [
    {
     "name": "stdout",
     "output_type": "stream",
     "text": [
      "75 Macierz nie jest kwadratowa Macierz nie jest kwadratowa\n"
     ]
    }
   ],
   "source": [
    "def SumaMacierzy(lista):\n",
    "    sumaCała = 0\n",
    "    for wiersz in lista:\n",
    "        if len(wiersz) != len(lista):\n",
    "            return \"Macierz nie jest kwadratowa\"\n",
    "        for element in wiersz:\n",
    "            sumaCała += element\n",
    "    return sumaCała\n",
    "\n",
    "A = [[1,2,3,4,5],\n",
    "     [1,2,3,4,5],\n",
    "     [1,2,3,4,5],\n",
    "     [1,2,3,4,5],\n",
    "     [1,2,3,4,5]]\n",
    "\n",
    "B = [[1,2,3,4,5],\n",
    "     [1,2,3,4,5],\n",
    "     [1,2,3,4,5],\n",
    "     [1,2,3,4,5]]\n",
    "\n",
    "C = [[1,2,3,4,5],\n",
    "     [1,2,3,4,5],\n",
    "     [1,2,3,4,5],\n",
    "     [1,2,3,4,5],\n",
    "     [1,2,3,4,5,1]]\n",
    "\n",
    "print(SumaMacierzy(A), SumaMacierzy(B), SumaMacierzy(C))"
   ]
  },
  {
   "cell_type": "markdown",
   "metadata": {},
   "source": [
    "Zadanie 4"
   ]
  },
  {
   "cell_type": "code",
   "execution_count": 26,
   "metadata": {},
   "outputs": [
    {
     "data": {
      "image/png": "[encoded data removed]",
      "text/plain": [
       "<Figure size 640x480 with 1 Axes>"
      ]
     },
     "metadata": {},
     "output_type": "display_data"
    }
   ],
   "source": [
    "import time\n",
    "from scipy.optimize import curve_fit\n",
    "\n",
    "def f1(x, a, b):\n",
    "  return a*x+b\n",
    "\n",
    "\n",
    "popt1, pcov1 = curve_fit(f1, range(1,10**6,10**5), timesAppend)\n",
    "popt2, pcov2 = curve_fit(f1, range(1,10**6,10**5), timesExtend)\n",
    "\n",
    "x2 = np.arange(1,10**6, 10**2)\n",
    "A = []\n",
    "\n",
    "timesAppend = []\n",
    "timesExtend = []\n",
    "\n",
    "for i in range(1,10**6,10**5):\n",
    "  t1=0\n",
    "  t2=0\n",
    "  for k in range(100):\n",
    "    startAppend = time.time()\n",
    "    for l in range(i):\n",
    "        A.append(0)\n",
    "    endAppend = time.time()\n",
    "    t1+=(endAppend - startAppend)\n",
    "    A = []\n",
    "\n",
    "    startExtend = time.time()\n",
    "    A.extend(i*[0])\n",
    "    endExtend = time.time()\n",
    "    t2+=(endExtend - startExtend)\n",
    "  timesAppend.append(t1/100)\n",
    "  timesExtend.append(t2/100)\n",
    "\n",
    "plt.scatter(range(1,10**6,10**5), timesAppend, c = \"blue\", label = \"Append\")\n",
    "plt.plot(x2, f(x2, *popt1), label=\"Hipoteza liniowa appenda\")\n",
    "plt.scatter(range(1,10**6,10**5), timesExtend, c = \"red\", label = \"Extend\")\n",
    "plt.plot(x2, f(x2, *popt2), label=\"Hipoteza liniowa extenda\")\n",
    "plt.legend()\n",
    "plt.show()\n"
   ]
  },
  {
   "cell_type": "markdown",
   "metadata": {},
   "source": [
    "Zadanie 5"
   ]
  },
  {
   "cell_type": "code",
   "execution_count": 22,
   "metadata": {},
   "outputs": [],
   "source": [
    "class Queue:\n",
    "    DEFAULT_CAPACITY = 10\n",
    "\n",
    "    def __init__(self):\n",
    "        self._data = [None]*Queue.DEFAULT_CAPACITY\n",
    "        self._size = 0\n",
    "        self._front = 0\n",
    "\n",
    "    def __str__(self):\n",
    "        return str(self._data)+\", \"+str(self.first())\n",
    "        \n",
    "    def __len__(self):\n",
    "        return self._size\n",
    "\n",
    "    def is_empty(self):\n",
    "        return self._size == 0\n",
    "\n",
    "    def first(self):\n",
    "        if self.is_empty():\n",
    "            raise Empty('Queue is empty')\n",
    "        return self._data[self._front]\n",
    "\n",
    "    def dequeue(self):\n",
    "        if self.is_empty():\n",
    "            raise Empty('Queue is empty')\n",
    "        value = self._data[self._front]\n",
    "        self._data[self._front] = None\n",
    "        self._front = (self._front+1)%len(self._data)\n",
    "        self._size -= 1\n",
    "        if self._size <= (len(self._data)/4):\n",
    "            self._resize(self._size)\n",
    "        return value\n",
    "\n",
    "    def enqueue(self,e):\n",
    "        if self._size == len(self._data):\n",
    "            self._resize(2*len(self._data))\n",
    "        avail = (self._front + self._size)%len(self._data)\n",
    "        self._data[avail] = e\n",
    "        self._size += 1\n",
    "\n",
    "    def _resize(self,cap):\n",
    "        old = self._data\n",
    "        self._data = [None]*cap\n",
    "        walk = self._front\n",
    "        for k in range(self._size): #only existing elements\n",
    "            self._data[k] = old[walk]\n",
    "            walk = (1 + walk)%len(old)\n",
    "        self._front = 0 "
   ]
  },
  {
   "cell_type": "code",
   "execution_count": 43,
   "metadata": {},
   "outputs": [
    {
     "name": "stdout",
     "output_type": "stream",
     "text": [
      "[2, 1, 3, 7, None, None, None, None, None, None], 2\n",
      "[None, 1, 3, 7, None, None, None, None, None, None], 1\n",
      "[3, 7], 3\n",
      "[None, 7], 7\n"
     ]
    }
   ],
   "source": [
    "A = Queue()\n",
    "\n",
    "A.enqueue(2)\n",
    "A.enqueue(1)\n",
    "A.enqueue(3)\n",
    "A.enqueue(7)\n",
    "print(A)\n",
    "\n",
    "A.dequeue()\n",
    "print(A)\n",
    "\n",
    "A.dequeue()\n",
    "print(A)\n",
    "\n",
    "A.dequeue()\n",
    "print(A)"
   ]
  },
  {
   "cell_type": "markdown",
   "metadata": {},
   "source": [
    "Zadanie 6"
   ]
  },
  {
   "cell_type": "code",
   "execution_count": 76,
   "metadata": {},
   "outputs": [],
   "source": [
    "class DoubleQueue:\n",
    "    DEFAULT_CAPACITY = 10\n",
    "\n",
    "    def __init__(self):\n",
    "        self._data = [None]*Queue.DEFAULT_CAPACITY\n",
    "        self._size = 0\n",
    "        self._front = 0\n",
    "        self._back = 0\n",
    "\n",
    "    def __str__(self):\n",
    "        return str(self._data)+\", \"+str(self.first()) +\", \"+ str(self.last())\n",
    "        \n",
    "    def __len__(self):\n",
    "        return self._size\n",
    "\n",
    "    def is_empty(self):\n",
    "        return self._size == 0\n",
    "\n",
    "    def first(self):\n",
    "        if self.is_empty():\n",
    "            raise Empty('Queue is empty')\n",
    "        return self._data[self._front]\n",
    "    \n",
    "    def last(self):\n",
    "        if self.is_empty():\n",
    "            raise Empty('Queue is empty')\n",
    "        return self._data[self._back]\n",
    "\n",
    "    def delete_first(self):\n",
    "        if self.is_empty():\n",
    "            raise Empty('Queue is empty')\n",
    "        value = self._data[self._front]\n",
    "        self._data[self._front] = None\n",
    "        self._front = (self._front+1)%len(self._data)\n",
    "        self._size -= 1\n",
    "        if self._size <= (len(self._data)/4):\n",
    "            self._resize(self._size)\n",
    "        return value\n",
    "    \n",
    "    def delete_last(self):\n",
    "        if self.is_empty():\n",
    "            raise Empty('Queue is empty')\n",
    "        value = self._data[self._back]\n",
    "        self._data[self._back] = None\n",
    "        self._size -= 1\n",
    "        if self._size <= (len(self._data)/4):\n",
    "            self._resize(self._size)\n",
    "        self._back = (self._front+self._size-1)%len(self._data)\n",
    "        return value\n",
    "\n",
    "    def add_last(self,e):\n",
    "        if self._size == len(self._data):\n",
    "            self._resize(2*len(self._data))\n",
    "        avail = (self._front + self._size)%len(self._data)\n",
    "        self._back = (self._front+self._size)%len(self._data)\n",
    "        self._data[avail] = e\n",
    "        self._size += 1\n",
    "    \n",
    "    def add_first(self,e):\n",
    "        if self._size == len(self._data):\n",
    "            self._resize(2*len(self._data))\n",
    "        avail = (self._front-1)%len(self._data)\n",
    "        self._front = (self._front-1)%len(self._data)\n",
    "        self._data[avail] = e\n",
    "        self._size += 1\n",
    "\n",
    "    def _resize(self,cap):\n",
    "        old = self._data\n",
    "        self._data = [None]*cap\n",
    "        walk = self._front\n",
    "        for k in range(self._size): #only existing elements\n",
    "            self._data[k] = old[walk]\n",
    "            walk = (1 + walk)%len(old)\n",
    "        self._front = 0 "
   ]
  },
  {
   "cell_type": "code",
   "execution_count": 78,
   "metadata": {},
   "outputs": [
    {
     "name": "stdout",
     "output_type": "stream",
     "text": [
      "[-3, 7, 1, 3, 5, None, None, None, None, None], -3, 5\n",
      "[-3, 7], -3, 7\n",
      "[-3, 7, None, 8], 8, 7\n",
      "[-3, 7, 9, 8], 9, 7\n",
      "[9, 8, -3, 7, 1, None, None, 0], 0, 1\n"
     ]
    }
   ],
   "source": [
    "X = DoubleQueue()\n",
    "X.add_last(-3)\n",
    "X.add_last(7)\n",
    "X.add_last(1)\n",
    "X.add_last(3)\n",
    "X.add_last(5)\n",
    "print(X)\n",
    "\n",
    "X.delete_last()\n",
    "X.delete_last()\n",
    "X.delete_last()\n",
    "\n",
    "print(X)\n",
    "\n",
    "X.add_first(8)\n",
    "print(X)\n",
    "\n",
    "X.add_first(9)\n",
    "print(X)\n",
    "\n",
    "X.add_first(0)\n",
    "X.add_last(1)\n",
    "\n",
    "print(X)"
   ]
  },
  {
   "cell_type": "markdown",
   "metadata": {},
   "source": [
    "Zadanie 7"
   ]
  },
  {
   "cell_type": "code",
   "execution_count": 79,
   "metadata": {},
   "outputs": [],
   "source": [
    "def CheckHTML(file):\n",
    "    \"\"\"\n",
    "    Funkcja sprawdzająca poprawność użycia znaczników w pliku HTML\n",
    "\n",
    "    input:\n",
    "        file[file] - plik html ktory sprawdzamy\n",
    "    \"\"\"\n",
    "    plik = file.read()\n",
    "    print(\"Sprawdzam plik \"+str(file.name))\n",
    "    stackZnacznikow = Stack()\n",
    "    stackNawiasow = Stack()\n",
    "    selfClosingTags = ['br',\"area\", 'base', 'col', 'embed', \n",
    "                        'hr', 'img', 'input', 'keygen', 'link', \n",
    "                        'meta', 'param', 'source', 'track', \"wbr\"]\n",
    "    \n",
    "    for i in range(len(plik)):\n",
    "        if plik[i] == \"<\":\n",
    "            stackNawiasow.push(plik[i])\n",
    "            poczatekTaga = i\n",
    "            koniecTaga = i\n",
    "\n",
    "            #Pętla wyliczająca długość taga, konczy sie albo '>' albo spacją, bo niektore znaczniki moga miec w sobie jakieś parametry po spacji.\n",
    "            while koniecTaga < len(plik) and plik[koniecTaga] not in ['>',' ']:\n",
    "                koniecTaga += 1\n",
    "            \n",
    "            tag = plik[poczatekTaga+1:koniecTaga].lower()\n",
    "            #Sprawdzamy taga, jezeli nie jest zamykajacy, nie jest komentarzem, nie zaczyna sie od 'view-source' i nie jest pojedynczy, dodajemy go do stosu\n",
    "            if not tag.startswith('/'):\n",
    "                if not tag.startswith(\"!\"):\n",
    "                    if tag[:11] != \"view-source\":\n",
    "                        if not tag in selfClosingTags:\n",
    "                            stackZnacznikow.push(tag)\n",
    "            else: #tagi zamykajace\n",
    "                para = False\n",
    "                #Poniższa pętla porównuje pierwszy znacznik otwierający na stosie do naszego znacznika zamykającego.\n",
    "                #Jeżeli nie znajdzie pary to usuwa pierwszy znacznik ze stosu i ponownie porównuje.\n",
    "                #Zabezpiecza to przed sytuacja, w ktorej jeden niezamkniety znacznik rozbija wszystkie znaczniki zamykajace\n",
    "                while para == False:\n",
    "                    if len(stackZnacznikow) != 0 and stackZnacznikow.top() == tag[1:]:\n",
    "                        stackZnacznikow.pop()\n",
    "                        para = True\n",
    "                    else:\n",
    "                        print(\"Niezamkniety znacznik \"+ stackZnacznikow.pop())\n",
    "                        if len(stackZnacznikow) == 0:\n",
    "                            print(\"Nieoczekiwany znacznik zamykajacy \"+tag)\n",
    "                \n",
    "        #Zabezpieczenie przed losowymi nawiasami ostrymi            \n",
    "        elif plik[i] == \">\":\n",
    "            if len(stackNawiasow) != 0:\n",
    "                stackNawiasow.pop()\n",
    "            else:\n",
    "                print(\"Nieoczekiwany zamykajacy nawias ostry\")\n",
    "    while len(stackZnacznikow) != 0:\n",
    "        niezamkniety = stackZnacznikow.pop()\n",
    "        print(\"Niezamkniety znacznik \"+ niezamkniety)\n",
    "    while len(stackNawiasow) != 0:\n",
    "        stackNawiasow.pop()\n",
    "        print(\"Niezamkniety nawias ostry!\")   \n",
    "    print(\"Sprawdznie zakonczone\")\n",
    "            "
   ]
  },
  {
   "cell_type": "code",
   "execution_count": 80,
   "metadata": {},
   "outputs": [
    {
     "name": "stdout",
     "output_type": "stream",
     "text": [
      "Sprawdzam plik HTML_sample1.txt\n",
      "Sprawdznie zakonczone\n",
      "Sprawdzam plik HTML_sample2.txt\n",
      "Niezamkniety znacznik html\n",
      "Sprawdznie zakonczone\n",
      "Sprawdzam plik HTML_sample3.txt\n",
      "Niezamkniety znacznik table\n",
      "Sprawdznie zakonczone\n"
     ]
    }
   ],
   "source": [
    "plik1 = open(\"HTML_sample1.txt\", \"r\")\n",
    "CheckHTML(plik1)\n",
    "plik2 = open(\"HTML_sample2.txt\", \"r\")\n",
    "CheckHTML(plik2)\n",
    "plik3 = open(\"HTML_sample3.txt\", \"r\")\n",
    "CheckHTML(plik3)"
   ]
  },
  {
   "cell_type": "markdown",
   "metadata": {},
   "source": [
    "zadanie 8"
   ]
  },
  {
   "cell_type": "code",
   "execution_count": 83,
   "metadata": {},
   "outputs": [
    {
     "data": {
      "text/plain": [
       "[[3, 2, 1], [3, 1, 2], [2, 3, 1], [2, 1, 3], [1, 3, 2], [1, 2, 3]]"
      ]
     },
     "execution_count": 83,
     "metadata": {},
     "output_type": "execute_result"
    }
   ],
   "source": [
    "def permuStack(n):\n",
    "    \"\"\"\n",
    "    Funkcja nierekurencyjnie wypisująca wszystkie permutacje zbioru liczb od 1 do n wykorzystuja stos.\n",
    "\n",
    "    input:\n",
    "        n [int] - dlugosc zbioru\n",
    "    \n",
    "    output:\n",
    "        permu [list] - lista permutacji\n",
    "    \"\"\"\n",
    "    stos = Stack()\n",
    "    stos.push((0,[]))\n",
    "    permu = []\n",
    "\n",
    "    while not stos.is_empty(): #powtarzamy do wyczerpania stosu\n",
    "        indeks, temp = stos.pop()\n",
    "        for i in range(1, n+1):\n",
    "            if i not in temp: #jezeli dana liczba nie wystepuje w obecnej permutacji\n",
    "                permutacja = temp + [i] #dodajemy ja do permutacji\n",
    "                if indeks+1 == n: \n",
    "                    permu.append(permutacja) #jezeli permutacja jest dlugosci n, dodaj ja do wynikow\n",
    "                else:\n",
    "                    stos.push((indeks+1, permutacja)) #jesli nie, dodajemy na stos permutacje i miejsce w ktorym jestesmy\n",
    "    \n",
    "    return permu\n",
    "\n",
    "permuStack(3)\n",
    "\n",
    "\n",
    "\n",
    "        \n",
    "\n"
   ]
  },
  {
   "cell_type": "markdown",
   "metadata": {},
   "source": [
    "zadanie 9"
   ]
  },
  {
   "cell_type": "code",
   "execution_count": 26,
   "metadata": {},
   "outputs": [
    {
     "name": "stdout",
     "output_type": "stream",
     "text": [
      "[2, None, 4, 3], 4\n",
      "4\n",
      "[2, None, None, 3], 3\n"
     ]
    }
   ],
   "source": [
    "class QueueyStack:\n",
    "    def __init__(self):\n",
    "        self.queue = Queue()\n",
    "        self.tempList = []\n",
    "    \n",
    "    def push(self, item):\n",
    "        s = len(self.queue)\n",
    "        self.queue.enqueue(item)\n",
    "        \n",
    "        for i in range(s):\n",
    "            self.queue.enqueue(self.queue.dequeue())\n",
    "    \n",
    "    def pop(self):\n",
    "        if self.queue.is_empty():\n",
    "            raise Empty(\"Stos jest pusty\")\n",
    "        return self.queue.dequeue()\n",
    "    \n",
    "    def top(self):\n",
    "        return self.queue.first()\n",
    "    \n",
    "    def __str__(self):\n",
    "        return str(self.queue)\n",
    "\n",
    "x = QueueyStack()\n",
    "\n",
    "x.push(2)\n",
    "x.push(3)\n",
    "x.push(4)\n",
    "\n",
    "print(x)\n",
    "\n",
    "print(x.pop())\n",
    "print(x)"
   ]
  },
  {
   "cell_type": "markdown",
   "metadata": {},
   "source": [
    "zadanie 10"
   ]
  },
  {
   "cell_type": "code",
   "execution_count": 15,
   "metadata": {},
   "outputs": [
    {
     "name": "stdout",
     "output_type": "stream",
     "text": [
      "[4, 3, 2, 1]\n",
      "1\n",
      "[4, 3, 2]\n"
     ]
    }
   ],
   "source": [
    "\n",
    "class StackyQueue:\n",
    "    def __init__(self):\n",
    "        self.firstStack = Stack()\n",
    "        self.secondStack = Stack()\n",
    "        \n",
    "    def enQueue(self, item):\n",
    "        while len(self.firstStack) != 0:\n",
    "            x = self.firstStack.pop()\n",
    "            self.secondStack.push(x)\n",
    "            \n",
    "        self.firstStack.push(item)\n",
    "\n",
    "        while len(self.secondStack) != 0:\n",
    "            y = self.secondStack.pop()\n",
    "            self.firstStack.push(y)\n",
    "        \n",
    "    def deQueue(self):\n",
    "        if self.firstStack.is_empty():\n",
    "            raise Empty(\"The queue is empty\")\n",
    "\n",
    "        return self.firstStack.pop()\n",
    "\n",
    "    def __str__(self):\n",
    "        return str(self.firstStack)\n",
    "\n",
    "x = StackyQueue()\n",
    "\n",
    "x.enQueue(1)\n",
    "x.enQueue(2)\n",
    "x.enQueue(3)\n",
    "x.enQueue(4)\n",
    "\n",
    "print(x)\n",
    "print(x.deQueue())\n",
    "\n",
    "\n",
    "print(x)"
   ]
  }
 ],
 "metadata": {
  "kernelspec": {
   "display_name": "Python 3",
   "language": "python",
   "name": "python3"
  },
  "language_info": {
   "codemirror_mode": {
    "name": "ipython",
    "version": 3
   },
   "file_extension": ".py",
   "mimetype": "text/x-python",
   "name": "python",
   "nbconvert_exporter": "python",
   "pygments_lexer": "ipython3",
   "version": "3.11.2"
  }
 },
 "nbformat": 4,
 "nbformat_minor": 2
}
